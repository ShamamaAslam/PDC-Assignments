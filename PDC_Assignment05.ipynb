{
  "nbformat": 4,
  "nbformat_minor": 0,
  "metadata": {
    "colab": {
      "provenance": [],
      "gpuType": "T4",
      "authorship_tag": "ABX9TyNXkgnYfSIkwfsx0OY345MZ",
      "include_colab_link": true
    },
    "kernelspec": {
      "name": "python3",
      "display_name": "Python 3"
    },
    "language_info": {
      "name": "python"
    },
    "accelerator": "GPU"
  },
  "cells": [
    {
      "cell_type": "markdown",
      "metadata": {
        "id": "view-in-github",
        "colab_type": "text"
      },
      "source": [
        "<a href=\"https://colab.research.google.com/github/ShamamaAslam/PDC-Assignments/blob/main/PDC_Assignment05.ipynb\" target=\"_parent\"><img src=\"https://colab.research.google.com/assets/colab-badge.svg\" alt=\"Open In Colab\"/></a>"
      ]
    },
    {
      "cell_type": "code",
      "source": [
        "!sudo apt-get update -qq\n",
        "!sudo apt-get install -y mpich\n"
      ],
      "metadata": {
        "colab": {
          "base_uri": "https://localhost:8080/",
          "height": 0
        },
        "id": "YkGdX6IvAkZu",
        "outputId": "ea3080f2-6fd9-416a-934d-c56bca10343e"
      },
      "execution_count": 1,
      "outputs": [
        {
          "output_type": "stream",
          "name": "stdout",
          "text": [
            "W: Skipping acquire of configured file 'main/source/Sources' as repository 'https://r2u.stat.illinois.edu/ubuntu jammy InRelease' does not seem to provide it (sources.list entry misspelt?)\n",
            "Reading package lists... Done\n",
            "Building dependency tree... Done\n",
            "Reading state information... Done\n",
            "The following additional packages will be installed:\n",
            "  hwloc-nox libmpich-dev libmpich12 libslurm37\n",
            "Suggested packages:\n",
            "  mpich-doc\n",
            "The following NEW packages will be installed:\n",
            "  hwloc-nox libmpich-dev libmpich12 libslurm37 mpich\n",
            "0 upgraded, 5 newly installed, 0 to remove and 39 not upgraded.\n",
            "Need to get 14.2 MB of archives.\n",
            "After this operation, 102 MB of additional disk space will be used.\n",
            "Get:1 http://archive.ubuntu.com/ubuntu jammy/universe amd64 libslurm37 amd64 21.08.5-2ubuntu1 [542 kB]\n",
            "Get:2 http://archive.ubuntu.com/ubuntu jammy-updates/universe amd64 hwloc-nox amd64 2.7.0-2ubuntu1 [205 kB]\n",
            "Get:3 http://archive.ubuntu.com/ubuntu jammy/universe amd64 libmpich12 amd64 4.0-3 [5,866 kB]\n",
            "Get:4 http://archive.ubuntu.com/ubuntu jammy/universe amd64 mpich amd64 4.0-3 [197 kB]\n",
            "Get:5 http://archive.ubuntu.com/ubuntu jammy/universe amd64 libmpich-dev amd64 4.0-3 [7,375 kB]\n",
            "Fetched 14.2 MB in 2s (6,994 kB/s)\n",
            "debconf: unable to initialize frontend: Dialog\n",
            "debconf: (No usable dialog-like program is installed, so the dialog based frontend cannot be used. at /usr/share/perl5/Debconf/FrontEnd/Dialog.pm line 78, <> line 5.)\n",
            "debconf: falling back to frontend: Readline\n",
            "debconf: unable to initialize frontend: Readline\n",
            "debconf: (This frontend requires a controlling tty.)\n",
            "debconf: falling back to frontend: Teletype\n",
            "dpkg-preconfigure: unable to re-open stdin: \n",
            "Selecting previously unselected package libslurm37.\n",
            "(Reading database ... 126675 files and directories currently installed.)\n",
            "Preparing to unpack .../libslurm37_21.08.5-2ubuntu1_amd64.deb ...\n",
            "Unpacking libslurm37 (21.08.5-2ubuntu1) ...\n",
            "Selecting previously unselected package hwloc-nox.\n",
            "Preparing to unpack .../hwloc-nox_2.7.0-2ubuntu1_amd64.deb ...\n",
            "Unpacking hwloc-nox (2.7.0-2ubuntu1) ...\n",
            "Selecting previously unselected package libmpich12:amd64.\n",
            "Preparing to unpack .../libmpich12_4.0-3_amd64.deb ...\n",
            "Unpacking libmpich12:amd64 (4.0-3) ...\n",
            "Selecting previously unselected package mpich.\n",
            "Preparing to unpack .../archives/mpich_4.0-3_amd64.deb ...\n",
            "Unpacking mpich (4.0-3) ...\n",
            "Selecting previously unselected package libmpich-dev:amd64.\n",
            "Preparing to unpack .../libmpich-dev_4.0-3_amd64.deb ...\n",
            "Unpacking libmpich-dev:amd64 (4.0-3) ...\n",
            "Setting up libslurm37 (21.08.5-2ubuntu1) ...\n",
            "Setting up hwloc-nox (2.7.0-2ubuntu1) ...\n",
            "Setting up libmpich12:amd64 (4.0-3) ...\n",
            "Setting up mpich (4.0-3) ...\n",
            "Setting up libmpich-dev:amd64 (4.0-3) ...\n",
            "Processing triggers for man-db (2.10.2-1) ...\n",
            "Processing triggers for libc-bin (2.35-0ubuntu3.8) ...\n",
            "/sbin/ldconfig.real: /usr/local/lib/libumf.so.0 is not a symbolic link\n",
            "\n",
            "/sbin/ldconfig.real: /usr/local/lib/libtbbbind_2_0.so.3 is not a symbolic link\n",
            "\n",
            "/sbin/ldconfig.real: /usr/local/lib/libtcm_debug.so.1 is not a symbolic link\n",
            "\n",
            "/sbin/ldconfig.real: /usr/local/lib/libur_loader.so.0 is not a symbolic link\n",
            "\n",
            "/sbin/ldconfig.real: /usr/local/lib/libur_adapter_opencl.so.0 is not a symbolic link\n",
            "\n",
            "/sbin/ldconfig.real: /usr/local/lib/libur_adapter_level_zero.so.0 is not a symbolic link\n",
            "\n",
            "/sbin/ldconfig.real: /usr/local/lib/libur_adapter_level_zero_v2.so.0 is not a symbolic link\n",
            "\n",
            "/sbin/ldconfig.real: /usr/local/lib/libtbbbind_2_5.so.3 is not a symbolic link\n",
            "\n",
            "/sbin/ldconfig.real: /usr/local/lib/libhwloc.so.15 is not a symbolic link\n",
            "\n",
            "/sbin/ldconfig.real: /usr/local/lib/libtbbmalloc.so.2 is not a symbolic link\n",
            "\n",
            "/sbin/ldconfig.real: /usr/local/lib/libtbb.so.12 is not a symbolic link\n",
            "\n",
            "/sbin/ldconfig.real: /usr/local/lib/libtbbmalloc_proxy.so.2 is not a symbolic link\n",
            "\n",
            "/sbin/ldconfig.real: /usr/local/lib/libtbbbind.so.3 is not a symbolic link\n",
            "\n",
            "/sbin/ldconfig.real: /usr/local/lib/libtcm.so.1 is not a symbolic link\n",
            "\n"
          ]
        }
      ]
    },
    {
      "cell_type": "code",
      "source": [
        "%%bash\n",
        "cat > task1.c <<'EOF'\n",
        "#include <mpi.h>\n",
        "#include <stdio.h>\n",
        "#include <stdlib.h>\n",
        "\n",
        "int main(int argc,char *argv[]){\n",
        "    MPI_Init(&argc,&argv);\n",
        "    int rank;\n",
        "    MPI_Comm_rank(MPI_COMM_WORLD,&rank);\n",
        "\n",
        "    int N=10;\n",
        "    int *A=NULL;\n",
        "    if(rank==0){\n",
        "        A=(int*)malloc(N*sizeof(int));\n",
        "        for(int i=0;i<N;i++)A[i]=i+1;\n",
        "        printf(\"Vector A: \");\n",
        "        for(int i=0;i<N;i++)printf(\"%d \",A[i]);\n",
        "        printf(\"\\n\");\n",
        "    }\n",
        "    MPI_Finalize();\n",
        "    return 0;\n",
        "}\n",
        "EOF\n",
        "\n",
        "mpicc task1.c -o task1\n",
        "mpirun --allow-run-as-root --oversubscribe -np 4 ./task1\n",
        "\n"
      ],
      "metadata": {
        "colab": {
          "base_uri": "https://localhost:8080/",
          "height": 0
        },
        "id": "LYmDvhjVBQvL",
        "outputId": "1fba449b-55b3-46ed-80d0-69b87ff8ccdf"
      },
      "execution_count": 6,
      "outputs": [
        {
          "output_type": "stream",
          "name": "stdout",
          "text": [
            "Vector A: 1 2 3 4 5 6 7 8 9 10 \n"
          ]
        }
      ]
    },
    {
      "cell_type": "code",
      "source": [
        "%%bash\n",
        "cat > task2.c <<'EOF'\n",
        "#include <mpi.h>\n",
        "#include <stdio.h>\n",
        "#include <stdlib.h>\n",
        "\n",
        "int main(int argc,char *argv[]){\n",
        " MPI_Init(&argc,&argv);\n",
        " int rank,size;\n",
        " MPI_Comm_rank(MPI_COMM_WORLD,&rank);\n",
        " MPI_Comm_size(MPI_COMM_WORLD,&size);\n",
        "\n",
        " int N=12;\n",
        " int each=N/size;\n",
        " int *A=NULL;\n",
        " if(rank==0){\n",
        "   A=(int*)malloc(N*sizeof(int));\n",
        "   for(int i=0;i<N;i++)A[i]=i+1;\n",
        " }\n",
        "\n",
        " int *part=(int*)malloc(each*sizeof(int));\n",
        " MPI_Scatter(A,each,MPI_INT,part,each,MPI_INT,0,MPI_COMM_WORLD);\n",
        "\n",
        " printf(\"Process %d received:\",rank);\n",
        " for(int i=0;i<each;i++)printf(\" %d\",part[i]);\n",
        " printf(\"\\n\");\n",
        "\n",
        " MPI_Finalize();\n",
        " return 0;\n",
        "}\n",
        "EOF\n",
        "\n",
        "mpicc task2.c -o task2\n",
        "mpirun --allow-run-as-root --oversubscribe -np 4 ./task2\n"
      ],
      "metadata": {
        "colab": {
          "base_uri": "https://localhost:8080/",
          "height": 0
        },
        "id": "ch2dmfZaD4I3",
        "outputId": "0f1ed397-f15a-4ff2-c531-d9ed977117f9"
      },
      "execution_count": 7,
      "outputs": [
        {
          "output_type": "stream",
          "name": "stdout",
          "text": [
            "Process 0 received: 1 2 3\n",
            "Process 2 received: 7 8 9\n",
            "Process 1 received: 4 5 6\n",
            "Process 3 received: 10 11 12\n"
          ]
        }
      ]
    },
    {
      "cell_type": "code",
      "source": [
        "%%bash\n",
        "cat > task3.c <<'EOF'\n",
        "#include <mpi.h>\n",
        "#include <stdio.h>\n",
        "#include <stdlib.h>\n",
        "\n",
        "int main(int argc,char *argv[]){\n",
        " MPI_Init(&argc,&argv);\n",
        " int rank,size;\n",
        " MPI_Comm_rank(MPI_COMM_WORLD,&rank);\n",
        " MPI_Comm_size(MPI_COMM_WORLD,&size);\n",
        "\n",
        " int N=12;\n",
        " int each=N/size;\n",
        " int *A=NULL;\n",
        " if(rank==0){\n",
        "   A=(int*)malloc(N*sizeof(int));\n",
        "   for(int i=0;i<N;i++)A[i]=i+1;\n",
        " }\n",
        "\n",
        " int *part=(int*)malloc(each*sizeof(int));\n",
        " MPI_Scatter(A,each,MPI_INT,part,each,MPI_INT,0,MPI_COMM_WORLD);\n",
        "\n",
        " int local_sum=0;\n",
        " for(int i=0;i<each;i++)local_sum+=part[i];\n",
        "\n",
        " printf(\"Process %d local sum=%d\\n\",rank,local_sum);\n",
        "\n",
        " MPI_Finalize();\n",
        " return 0;\n",
        "}\n",
        "EOF\n",
        "\n",
        "mpicc task3.c -o task3\n",
        "mpirun --allow-run-as-root --oversubscribe -np 4 ./task3\n"
      ],
      "metadata": {
        "colab": {
          "base_uri": "https://localhost:8080/",
          "height": 0
        },
        "id": "6_crriQvFAf1",
        "outputId": "8615e5fb-1566-4988-ec1a-faac47272fe7"
      },
      "execution_count": 8,
      "outputs": [
        {
          "output_type": "stream",
          "name": "stdout",
          "text": [
            "Process 0 local sum=6\n",
            "Process 1 local sum=15\n",
            "Process 2 local sum=24\n",
            "Process 3 local sum=33\n"
          ]
        }
      ]
    },
    {
      "cell_type": "code",
      "source": [
        "%%bash\n",
        "cat > task4.c <<'EOF'\n",
        "#include <mpi.h>\n",
        "#include <stdio.h>\n",
        "#include <stdlib.h>\n",
        "\n",
        "int main(int argc,char *argv[]){\n",
        " MPI_Init(&argc,&argv);\n",
        " int rank,size;\n",
        " MPI_Comm_rank(MPI_COMM_WORLD,&rank);\n",
        " MPI_Comm_size(MPI_COMM_WORLD,&size);\n",
        "\n",
        " int N=12;\n",
        " int each=N/size;\n",
        " int *A=NULL;\n",
        " if(rank==0){\n",
        "   A=(int*)malloc(N*sizeof(int));\n",
        "   for(int i=0;i<N;i++)A[i]=i+1;\n",
        " }\n",
        "\n",
        " int *part=(int*)malloc(each*sizeof(int));\n",
        " MPI_Scatter(A,each,MPI_INT,part,each,MPI_INT,0,MPI_COMM_WORLD);\n",
        "\n",
        " int local_sum=0;\n",
        " for(int i=0;i<each;i++)local_sum+=part[i];\n",
        "\n",
        " int total_sum=0;\n",
        " MPI_Reduce(&local_sum,&total_sum,1,MPI_INT,MPI_SUM,0,MPI_COMM_WORLD);\n",
        "\n",
        " if(rank==0)printf(\"Total Sum (MPI_Reduce)=%d\\n\",total_sum);\n",
        "\n",
        " MPI_Finalize();\n",
        " return 0;\n",
        "}\n",
        "EOF\n",
        "\n",
        "mpicc task4.c -o task4\n",
        "mpirun --allow-run-as-root --oversubscribe -np 4 ./task4\n"
      ],
      "metadata": {
        "colab": {
          "base_uri": "https://localhost:8080/",
          "height": 0
        },
        "id": "GVNRP-zvFbPj",
        "outputId": "af7a2ce3-6788-4b19-92db-cb7fb82f6366"
      },
      "execution_count": 9,
      "outputs": [
        {
          "output_type": "stream",
          "name": "stdout",
          "text": [
            "Total Sum (MPI_Reduce)=78\n"
          ]
        }
      ]
    },
    {
      "cell_type": "code",
      "source": [
        "%%bash\n",
        "cat > task5.c <<'EOF'\n",
        "#include <mpi.h>\n",
        "#include <stdio.h>\n",
        "#include <stdlib.h>\n",
        "\n",
        "int main(int argc,char *argv[]){\n",
        " MPI_Init(&argc,&argv);\n",
        " int rank,size;\n",
        " MPI_Comm_rank(MPI_COMM_WORLD,&rank);\n",
        " MPI_Comm_size(MPI_COMM_WORLD,&size);\n",
        "\n",
        " int N=12;\n",
        " int each=N/size;\n",
        " int *A=NULL;\n",
        " if(rank==0){\n",
        "   A=(int*)malloc(N*sizeof(int));\n",
        "   for(int i=0;i<N;i++)A[i]=i+1;\n",
        " }\n",
        "\n",
        " int *part=(int*)malloc(each*sizeof(int));\n",
        " MPI_Scatter(A,each,MPI_INT,part,each,MPI_INT,0,MPI_COMM_WORLD);\n",
        "\n",
        " int local_sum=0;\n",
        " for(int i=0;i<each;i++)local_sum+=part[i];\n",
        "\n",
        " int total_sum=0;\n",
        " MPI_Reduce(&local_sum,&total_sum,1,MPI_INT,MPI_SUM,0,MPI_COMM_WORLD);\n",
        "\n",
        " if(rank==0){\n",
        "   int expected=N*(N+1)/2;\n",
        "   printf(\"Total Sum (MPI)=%d\\nExpected Sum=%d\\nDifference=%d\\n\",\n",
        "          total_sum,expected,expected-total_sum);\n",
        " }\n",
        " MPI_Finalize();\n",
        " return 0;\n",
        "}\n",
        "EOF\n",
        "\n",
        "mpicc task5.c -o task5\n",
        "mpirun --allow-run-as-root --oversubscribe -np 4 ./task5\n"
      ],
      "metadata": {
        "colab": {
          "base_uri": "https://localhost:8080/",
          "height": 0
        },
        "id": "HH7nEm5WGLJJ",
        "outputId": "67d1f3c9-a8fd-4c08-bb35-5f1e347090ac"
      },
      "execution_count": 10,
      "outputs": [
        {
          "output_type": "stream",
          "name": "stdout",
          "text": [
            "Total Sum (MPI)=78\n",
            "Expected Sum=78\n",
            "Difference=0\n"
          ]
        }
      ]
    },
    {
      "cell_type": "code",
      "source": [
        "%%bash\n",
        "cat > bonus.c <<'EOF'\n",
        "#include <mpi.h>\n",
        "#include <stdio.h>\n",
        "#include <stdlib.h>\n",
        "\n",
        "int main(int argc,char *argv[]){\n",
        " MPI_Init(&argc,&argv);\n",
        " int rank,size;\n",
        " MPI_Comm_rank(MPI_COMM_WORLD,&rank);\n",
        " MPI_Comm_size(MPI_COMM_WORLD,&size);\n",
        "\n",
        " int N=10;  // not divisible by number of processes\n",
        " int base=N/size;\n",
        " int rem=N%size;\n",
        " int local_n=base+(rank<rem?1:0);\n",
        "\n",
        " int *A=NULL,*sendcounts=NULL,*displs=NULL;\n",
        " if(rank==0){\n",
        "   A=(int*)malloc(N*sizeof(int));\n",
        "   sendcounts=(int*)malloc(size*sizeof(int));\n",
        "   displs=(int*)malloc(size*sizeof(int));\n",
        "   for(int i=0;i<N;i++)A[i]=i+1;\n",
        "   int offset=0;\n",
        "   for(int i=0;i<size;i++){\n",
        "     sendcounts[i]=base+(i<rem?1:0);\n",
        "     displs[i]=offset;\n",
        "     offset+=sendcounts[i];\n",
        "   }\n",
        " }\n",
        "\n",
        " int *part=(int*)malloc(local_n*sizeof(int));\n",
        " MPI_Scatterv(A,sendcounts,displs,MPI_INT,part,local_n,MPI_INT,0,MPI_COMM_WORLD);\n",
        "\n",
        " int local_sum=0;\n",
        " for(int i=0;i<local_n;i++)local_sum+=part[i];\n",
        "\n",
        " int total_sum=0;\n",
        " MPI_Reduce(&local_sum,&total_sum,1,MPI_INT,MPI_SUM,0,MPI_COMM_WORLD);\n",
        "\n",
        " if(rank==0)printf(\"Total Sum (Uneven N)=%d\\n\",total_sum);\n",
        "\n",
        " MPI_Finalize();\n",
        " return 0;\n",
        "}\n",
        "EOF\n",
        "\n",
        "mpicc bonus.c -o bonus\n",
        "mpirun --allow-run-as-root --oversubscribe -np 4 ./bonus\n"
      ],
      "metadata": {
        "colab": {
          "base_uri": "https://localhost:8080/",
          "height": 0
        },
        "id": "QSFz4hD2HE9A",
        "outputId": "efb3dfb0-796c-4c50-cb83-10f00f4c2352"
      },
      "execution_count": 11,
      "outputs": [
        {
          "output_type": "stream",
          "name": "stdout",
          "text": [
            "Total Sum (Uneven N)=55\n"
          ]
        }
      ]
    }
  ]
}